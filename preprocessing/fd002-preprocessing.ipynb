{
 "cells": [
  {
   "cell_type": "markdown",
   "id": "fc6c0f1b-5038-462d-b31a-6840ea58b1d8",
   "metadata": {
    "editable": true,
    "slideshow": {
     "slide_type": ""
    },
    "tags": []
   },
   "source": [
    "<h1>FD002 PreProcessing</h1>\n",
    "<ul>\n",
    "    <li>Dropping and scaling data</li>\n",
    "    <li>Getting time series data</li>\n",
    "    <li>Visualization of data distribution</li>\n",
    "    <li>Saving preprocessed data</li>\n",
    "</ul>"
   ]
  },
  {
   "cell_type": "code",
   "execution_count": 1,
   "id": "d1fa5a89-1eb6-4531-961f-37991889514e",
   "metadata": {},
   "outputs": [
    {
     "name": "stdout",
     "output_type": "stream",
     "text": [
      "devices: PhysicalDevice(name='/physical_device:CPU:0', device_type='CPU')\n"
     ]
    }
   ],
   "source": [
    "from tools import *"
   ]
  },
  {
   "cell_type": "code",
   "execution_count": 2,
   "id": "fd3b5c1f-1352-4a5c-8720-171e1bdc86d4",
   "metadata": {},
   "outputs": [
    {
     "name": "stdout",
     "output_type": "stream",
     "text": [
      "Downloading CMAPSSData.zip from Google Drive...\n"
     ]
    },
    {
     "name": "stderr",
     "output_type": "stream",
     "text": [
      "Downloading...\n",
      "From: https://drive.google.com/uc?id=1LU1DQuv7_CzBy2_Abgjg3HsvNDme361O\n",
      "To: D:\\virtualenv\\src\\thesis\\cmapss\\preprocessing\\input\\CMAPSSData\\CMAPSSData.zip\n",
      "100%|█████████████████████████████████████████████████████████████████████████████| 12.4M/12.4M [00:01<00:00, 7.61MB/s]\n"
     ]
    },
    {
     "name": "stdout",
     "output_type": "stream",
     "text": [
      "Extracting CMAPSSData.zip...\n",
      "Extraction complete: ./input\\CMAPSSData\n",
      "\u001b[94m\u001b[1mInput directory\u001b[0m\n",
      "'./input'\n",
      "\u001b[94m\u001b[1mURL input dataset\u001b[0m\n",
      "'https://drive.google.com/file/d/1LU1DQuv7_CzBy2_Abgjg3HsvNDme361O/view?usp=drive_link'\n",
      "\u001b[94m\u001b[1mInput dataset directory\u001b[0m\n",
      "'./input\\\\CMAPSSData'\n",
      "\u001b[94m\u001b[1mOutput directory\u001b[0m\n",
      "'./working'\n",
      "\u001b[94m\u001b[1mOutput directory\u001b[0m\n",
      "'./working'\n",
      "\u001b[94m\u001b[1mOutput data directory\u001b[0m\n",
      "'./working\\\\data'\n",
      "\u001b[94m\u001b[1mOutput plots directory\u001b[0m\n",
      "'./working\\\\plots'\n"
     ]
    }
   ],
   "source": [
    "prepare_dirs(task='preprocessing')"
   ]
  },
  {
   "cell_type": "code",
   "execution_count": 3,
   "id": "9193310e-0d2f-4184-90c9-7357417bf6ca",
   "metadata": {},
   "outputs": [
    {
     "name": "stdout",
     "output_type": "stream",
     "text": [
      "\u001b[94m\u001b[1mDatasets name\u001b[0m\n",
      "['FD001', 'FD002', 'FD003', 'FD004']\n",
      "\u001b[94m\u001b[1mDataset name\u001b[0m\n",
      "'FD002'\n",
      "\u001b[94m\u001b[1mFiles List Name\u001b[0m\n",
      "['Damage Propagation Modeling.pdf',\n",
      " 'readme.txt',\n",
      " 'RUL_FD001.txt',\n",
      " 'RUL_FD002.txt',\n",
      " 'RUL_FD003.txt',\n",
      " 'RUL_FD004.txt',\n",
      " 'test_FD001.txt',\n",
      " 'test_FD002.txt',\n",
      " 'test_FD003.txt',\n",
      " 'test_FD004.txt',\n",
      " 'train_FD001.txt',\n",
      " 'train_FD002.txt',\n",
      " 'train_FD003.txt',\n",
      " 'train_FD004.txt']\n",
      "\u001b[94m\u001b[1mTrain features files name\u001b[0m\n",
      "['train_FD001.txt', 'train_FD002.txt', 'train_FD003.txt', 'train_FD004.txt']\n",
      "\u001b[94m\u001b[1mTest features files name\u001b[0m\n",
      "['test_FD001.txt', 'test_FD002.txt', 'test_FD003.txt', 'test_FD004.txt']\n",
      "\u001b[94m\u001b[1mTest targets files name\u001b[0m\n",
      "['RUL_FD001.txt', 'RUL_FD002.txt', 'RUL_FD003.txt', 'RUL_FD004.txt']\n",
      "\u001b[94m\u001b[1mUncategorized files name\u001b[0m\n",
      "['Damage Propagation Modeling.pdf', 'readme.txt']\n",
      "\u001b[94m\u001b[1mDataset files path\u001b[0m\n",
      "['./input\\\\CMAPSSData\\\\train_FD002.txt',\n",
      " './input\\\\CMAPSSData\\\\test_FD002.txt',\n",
      " './input\\\\CMAPSSData\\\\RUL_FD002.txt']\n",
      "\u001b[94m\u001b[1mTrain features data size\u001b[0m\n",
      "(53759, 26)\n",
      "\u001b[94m\u001b[1mTest features data size\u001b[0m\n",
      "(33991, 26)\n",
      "\u001b[94m\u001b[1mTest targets data size\u001b[0m\n",
      "(259, 1)\n"
     ]
    }
   ],
   "source": [
    "nprint('Datasets name', datasets_name)\n",
    "nprint('Dataset name', dataset_name)\n",
    "\n",
    "# filtering and categorizing files path\n",
    "categorized_files_name = filter_directory(\n",
    "    directory=dataset_dir, \n",
    "    category_filters=category_filters, \n",
    "    excluded_files='.ipynb_checkpoints'\n",
    ")\n",
    "train_features_files_name = categorized_files_name[FileCategory.TRAIN_FEATURES]\n",
    "test_features_files_name = categorized_files_name[FileCategory.TEST_FEATURES]\n",
    "test_targets_files_name = categorized_files_name[FileCategory.TEST_TARGETS]\n",
    "uncategorized_files_name = categorized_files_name[FileCategory.UNCATEGORIZED]\n",
    "nprint(\"Train features files name\", train_features_files_name)\n",
    "nprint(\"Test features files name\", test_features_files_name)\n",
    "nprint(\"Test targets files name\", test_targets_files_name)\n",
    "nprint(\"Uncategorized files name\", uncategorized_files_name)\n",
    "\n",
    "train_features_name = get_dataset(name=dataset_name, files_list=train_features_files_name)\n",
    "train_features_path = os.path.join(dataset_dir, train_features_name)\n",
    "test_features_file_name = get_dataset(name=dataset_name, files_list=test_features_files_name)\n",
    "test_features_file_path = os.path.join(dataset_dir, test_features_file_name)\n",
    "test_targets_file_name = get_dataset(name=dataset_name, files_list=test_targets_files_name)\n",
    "test_targets_file_path = os.path.join(dataset_dir, test_targets_file_name)\n",
    "\n",
    "nprint('Dataset files path', [train_features_path, test_features_file_path, test_targets_file_path])\n",
    "\n",
    "train_features_data =  pd.read_csv(train_features_path, sep=pdsep, header=None)\n",
    "nprint('Train features data size', (len(train_features_data), len(train_features_data.columns)))\n",
    "test_features_data = pd.read_csv(test_features_file_path, sep=pdsep, header=None)\n",
    "nprint('Test features data size', (len(test_features_data), len(test_features_data.columns)))\n",
    "test_targets_data = pd.read_csv(test_targets_file_path, sep=pdsep, header=None)\n",
    "nprint('Test targets data size', (len(test_targets_data), len(test_targets_data.columns)))"
   ]
  },
  {
   "cell_type": "code",
   "execution_count": 4,
   "id": "f6f39a3e-7469-4525-b588-21c9229c2cf8",
   "metadata": {
    "editable": true,
    "slideshow": {
     "slide_type": ""
    },
    "tags": []
   },
   "outputs": [],
   "source": [
    "processed_train_features = []\n",
    "processed_train_targets = []\n",
    "processed_test_features = []\n",
    "windows_generated = []\n",
    "\n",
    "# getting train and test engines\n",
    "train_engines = train_features_data[0]\n",
    "test_engines = test_features_data[0]\n",
    "\n",
    "# getting number of train and test engines\n",
    "num_train_engines = len(train_features_data[0].unique())\n",
    "num_test_engines = len(test_features_data[0].unique())"
   ]
  },
  {
   "cell_type": "markdown",
   "id": "392e7a31-12dd-42dd-8dae-da9c4dc49638",
   "metadata": {},
   "source": [
    "<h2>Dropping and scaling data</h2>"
   ]
  },
  {
   "cell_type": "code",
   "execution_count": 5,
   "id": "fae0ee17-c223-4880-80de-53ed27ba8eac",
   "metadata": {
    "editable": true,
    "slideshow": {
     "slide_type": ""
    },
    "tags": []
   },
   "outputs": [],
   "source": [
    "# dropping redundant features\n",
    "columns_to_drop = [col for col in columns_to_drop if col in train_features_data.columns]\n",
    "train_features_data_colsdropped = train_features_data.drop(columns=columns_to_drop)\n",
    "test_features_data_colsdropped = test_features_data.drop(columns=columns_to_drop)\n",
    "\n",
    "# scaling data for all engines \n",
    "scaler = MinMaxScaler(feature_range=(-1,1))\n",
    "train_features_data = scaler.fit_transform(train_features_data_colsdropped)\n",
    "test_features_data = scaler.transform(test_features_data_colsdropped)\n",
    "\n",
    "# stacking train and test engines with scaled features (engines should not to be scaled)\n",
    "train_features_data = pd.DataFrame(data=np.c_[train_engines, train_features_data])\n",
    "test_features_data = pd.DataFrame(data=np.c_[test_engines, test_features_data])"
   ]
  },
  {
   "cell_type": "markdown",
   "id": "270c9a48-17b3-4789-ac56-819d4d71e618",
   "metadata": {},
   "source": [
    "<h2>Getting time series data</h2>\n",
    "<ul>\n",
    "    <li>Getting time series training data</li>\n",
    "    <li>Getting time series testing data</li>\n",
    "</ul>"
   ]
  },
  {
   "cell_type": "markdown",
   "id": "e5ddffbc-1f21-4e45-bac3-d718afa7ef9d",
   "metadata": {},
   "source": [
    "<h3>Getting time series training data</h3>"
   ]
  },
  {
   "cell_type": "code",
   "execution_count": 6,
   "id": "ef5f9cf8-e5a0-4fb0-826b-a1db98cb5418",
   "metadata": {},
   "outputs": [
    {
     "name": "stderr",
     "output_type": "stream",
     "text": [
      "100%|███████████████████████████████████████████████████████████████████████████████| 260/260 [00:00<00:00, 974.57it/s]\n"
     ]
    }
   ],
   "source": [
    "for i in tqdm(np.arange(1, num_train_engines + 1)):\n",
    "    raw_train_features = train_features_data[train_features_data[0] == i].drop(columns = [0]).values\n",
    "    raw_train_targets = cycles2rul(cycles=raw_train_features.shape[0], upper_rul=upper_rul)\n",
    "    ts_train_features, ts_train_targets = raw2ts(\n",
    "        raw_features=raw_train_features, \n",
    "        raw_targets=raw_train_targets, \n",
    "        window_length=window_length, \n",
    "        shift=shift\n",
    "    )\n",
    "    processed_train_features.append(ts_train_features)\n",
    "    processed_train_targets.append(ts_train_targets)\n",
    "processed_train_features = np.concatenate(processed_train_features)\n",
    "processed_train_targets = np.concatenate(processed_train_targets)\n",
    "# shuffling training data\n",
    "index = np.random.permutation(len(processed_train_targets))\n",
    "processed_train_features = processed_train_features[index]\n",
    "processed_train_targets = processed_train_targets[index]"
   ]
  },
  {
   "cell_type": "markdown",
   "id": "c6170f57-ac6d-404e-9c3e-3af930bc98f2",
   "metadata": {},
   "source": [
    "<h3>Getting time series testing data</h3>"
   ]
  },
  {
   "cell_type": "code",
   "execution_count": 7,
   "id": "260ee3ee-0f51-4325-b579-99051c155e97",
   "metadata": {},
   "outputs": [
    {
     "name": "stderr",
     "output_type": "stream",
     "text": [
      "100%|██████████████████████████████████████████████████████████████████████████████| 259/259 [00:00<00:00, 1408.88it/s]\n"
     ]
    }
   ],
   "source": [
    "for i in tqdm(np.arange(1, num_test_engines + 1)):\n",
    "    raw_test_features = test_features_data[test_features_data[0] == i].drop(columns = [0]).values\n",
    "    ts_test_features, num_windows_generated = raw2tswindows(\n",
    "        raw_features=raw_test_features, \n",
    "        window_length=window_length, \n",
    "        shift=shift,\n",
    "        num_windows=num_windows\n",
    "    )\n",
    "    processed_test_features.append(ts_test_features)\n",
    "    windows_generated.append(num_windows_generated)\n",
    "processed_test_features = np.concatenate(processed_test_features)\n",
    "ts_test_targets = test_targets_data[0].values"
   ]
  },
  {
   "cell_type": "markdown",
   "id": "ac99f7c2-a307-4dbd-bee8-c709fd4e6474",
   "metadata": {},
   "source": [
    "<h2>Visualization of data distribution</h2>\n",
    "<ul>\n",
    "    <li>Training and validation data distribution</li>\n",
    "    <li>Preprocessed data shapes</li>\n",
    "</ul>"
   ]
  },
  {
   "cell_type": "markdown",
   "id": "eddd513d-1644-4f2d-8c0b-2e1af3529b0d",
   "metadata": {},
   "source": [
    "<h3>Training and validation data distribution</h3>"
   ]
  },
  {
   "cell_type": "code",
   "execution_count": 8,
   "id": "8e8fc122-dd89-4447-a6c7-8d9b7f1d7e0c",
   "metadata": {},
   "outputs": [
    {
     "data": {
      "image/png": "[encoded data removed]",
      "text/plain": [
       "<Figure size 640x480 with 1 Axes>"
      ]
     },
     "metadata": {},
     "output_type": "display_data"
    }
   ],
   "source": [
    "(processed_train_features, \n",
    " processed_val_features, \n",
    " processed_train_targets, \n",
    " processed_val_targets\n",
    ") = train_test_split(\n",
    "     processed_train_features,\n",
    "     processed_train_targets,\n",
    "     test_size = val_size,\n",
    "     random_state = random_state_split\n",
    ")\n",
    "\n",
    "wedges, texts, autotexts = plt.pie(\n",
    "    [100-(val_size*100), val_size*100],\n",
    "    colors = ['#ff9999', '#66b3ff'],\n",
    "    autopct='%1.1f%%',\n",
    "    startangle=90,\n",
    "    wedgeprops={'edgecolor': 'black'}\n",
    ")\n",
    "plt.legend(\n",
    "    wedges, \n",
    "    ['train_size', 'val_size'], \n",
    "    loc='best', \n",
    "    bbox_to_anchor=(1, 0, 0.5, 1)\n",
    ")\n",
    "plt.title('Data distribution')\n",
    "plt.show()"
   ]
  },
  {
   "cell_type": "markdown",
   "id": "d37dc8c8-6c7b-427e-9885-0ed87998f75b",
   "metadata": {},
   "source": [
    "<h3>Preprocessed data shapes</h3>"
   ]
  },
  {
   "cell_type": "code",
   "execution_count": 9,
   "id": "7f05df4f-fa05-4285-a1d6-1cba654cc359",
   "metadata": {},
   "outputs": [
    {
     "name": "stdout",
     "output_type": "stream",
     "text": [
      "\u001b[94m\u001b[1mProcessed train data shape\u001b[0m\n",
      "(39055, 20, 15)\n",
      "\u001b[94m\u001b[1mProcessed train targets shape\u001b[0m\n",
      "(39055,)\n",
      "\u001b[94m\u001b[1mProcessed val features shape\u001b[0m\n",
      "(9764, 20, 15)\n",
      "\u001b[94m\u001b[1mProcessed val targets shape\u001b[0m\n",
      "(9764,)\n",
      "\u001b[94m\u001b[1mProcessed test features shape\u001b[0m\n",
      "(1289, 20, 15)\n",
      "\u001b[94m\u001b[1mProcessed test targets shape\u001b[0m\n",
      "(259,)\n"
     ]
    }
   ],
   "source": [
    "nprint(\"Processed train data shape\", processed_train_features.shape)\n",
    "nprint(\"Processed train targets shape\", processed_train_targets.shape)\n",
    "nprint(\"Processed val features shape\", processed_val_features.shape)\n",
    "nprint(\"Processed val targets shape\", processed_val_targets.shape)\n",
    "nprint(\"Processed test features shape\", processed_test_features.shape)\n",
    "nprint(\"Processed test targets shape\", ts_test_targets.shape)"
   ]
  },
  {
   "cell_type": "markdown",
   "id": "605f7d09-d6cb-40e7-82e2-14757ef5590f",
   "metadata": {},
   "source": [
    "<h2>Saving preprocessed data</h2>\n",
    "<ul>\n",
    "    <li>Saving the scaler</li>\n",
    "    <li>Saving of preprocessed training, validation and testing data</li>\n",
    "    <li>Creation of a .zip file for uploading to Google Drive</li>\n",
    "</ul>"
   ]
  },
  {
   "cell_type": "code",
   "execution_count": 10,
   "id": "65f6f62a-025c-4361-b292-43df76b287f2",
   "metadata": {},
   "outputs": [],
   "source": [
    "preprocessed_data_dir = os.path.join(out_data_dir, dataset_name)\n",
    "os.makedirs(os.path.join(preprocessed_data_dir))\n",
    "\n",
    "# files type\n",
    "scaler_ftype = '.pkl'\n",
    "data_ftype = '.npy'"
   ]
  },
  {
   "cell_type": "markdown",
   "id": "339722dd-9973-4098-9b97-500048ff83dc",
   "metadata": {},
   "source": [
    "<h3>Saving the scaler</h3>"
   ]
  },
  {
   "cell_type": "code",
   "execution_count": 11,
   "id": "ab4a63e7-e605-4f3c-a524-19d73ecb4ce6",
   "metadata": {},
   "outputs": [
    {
     "name": "stdout",
     "output_type": "stream",
     "text": [
      "\u001b[94m\u001b[1mScaler path\u001b[0m\n",
      "'./working\\\\data\\\\FD002\\\\minmaxscaler.pkl'\n"
     ]
    },
    {
     "data": {
      "text/plain": [
       "['./working\\\\data\\\\FD002\\\\minmaxscaler.pkl']"
      ]
     },
     "execution_count": 11,
     "metadata": {},
     "output_type": "execute_result"
    }
   ],
   "source": [
    "scaler_name = 'minmaxscaler' + scaler_ftype\n",
    "scaler_path = os.path.join(preprocessed_data_dir, scaler_name)\n",
    "nprint('Scaler path', scaler_path)\n",
    "joblib.dump(scaler, scaler_path)"
   ]
  },
  {
   "cell_type": "markdown",
   "id": "97b15730-0707-4db9-8a05-34b89992aaf8",
   "metadata": {},
   "source": [
    "<h3>Saving of preprocessed training, validation and testing data</h3>"
   ]
  },
  {
   "cell_type": "code",
   "execution_count": 12,
   "id": "4a78dc46-1175-4006-95f5-1416292cf1b7",
   "metadata": {},
   "outputs": [
    {
     "name": "stdout",
     "output_type": "stream",
     "text": [
      "\u001b[94m\u001b[1mTime series train features path\u001b[0m\n",
      "'./working\\\\data\\\\FD002\\\\ts_train_features.npy'\n",
      "\u001b[94m\u001b[1mTime series train targets path\u001b[0m\n",
      "'./working\\\\data\\\\FD002\\\\ts_train_targets.npy'\n",
      "\u001b[94m\u001b[1mTime series val features path\u001b[0m\n",
      "'./working\\\\data\\\\FD002\\\\ts_val_features.npy'\n",
      "\u001b[94m\u001b[1mTime series val targets path\u001b[0m\n",
      "'./working\\\\data\\\\FD002\\\\ts_val_targets.npy'\n",
      "\u001b[94m\u001b[1mTime series test features path\u001b[0m\n",
      "'./working\\\\data\\\\FD002\\\\ts_test_features.npy'\n",
      "\u001b[94m\u001b[1mTime series test targets path\u001b[0m\n",
      "'./working\\\\data\\\\FD002\\\\ts_test_targets.npy'\n",
      "\u001b[94m\u001b[1mTest windows generated path\u001b[0m\n",
      "'./working\\\\data\\\\FD002\\\\test_windows_generated.npy'\n"
     ]
    }
   ],
   "source": [
    "# training features data preprocessed\n",
    "ts_train_features = processed_train_features\n",
    "ts_train_features_name = 'ts_train_features' + data_ftype\n",
    "ts_train_features_path = os.path.join(preprocessed_data_dir, ts_train_features_name)\n",
    "nprint('Time series train features path', ts_train_features_path)\n",
    "np.save(ts_train_features_path, ts_train_features)\n",
    "\n",
    "# training targets data preprocessed\n",
    "ts_train_targets = processed_train_targets\n",
    "ts_train_targets_name = 'ts_train_targets' + data_ftype\n",
    "ts_train_targets_path = os.path.join(preprocessed_data_dir, ts_train_targets_name)\n",
    "nprint('Time series train targets path', ts_train_targets_path)\n",
    "np.save(ts_train_targets_path, ts_train_targets)\n",
    "\n",
    "# validation features data preprocessed\n",
    "ts_val_features = processed_val_features\n",
    "ts_val_features_name = 'ts_val_features' + data_ftype\n",
    "ts_val_features_path = os.path.join(preprocessed_data_dir, ts_val_features_name)\n",
    "nprint('Time series val features path', ts_val_features_path)\n",
    "np.save(ts_val_features_path, ts_val_features)\n",
    "\n",
    "# validation targets data preprocessed\n",
    "ts_val_targets = processed_val_targets\n",
    "ts_val_targets_name = 'ts_val_targets' + data_ftype\n",
    "ts_val_targets_path = os.path.join(preprocessed_data_dir, ts_val_targets_name)\n",
    "nprint('Time series val targets path', ts_val_targets_path)\n",
    "np.save(ts_val_targets_path, ts_val_targets)\n",
    "\n",
    "# testing features data preprocessed\n",
    "ts_test_features = processed_test_features\n",
    "ts_test_features_name = 'ts_test_features' + data_ftype\n",
    "ts_test_features_path = os.path.join(preprocessed_data_dir, ts_test_features_name)\n",
    "nprint('Time series test features path', ts_test_features_path)\n",
    "np.save(ts_test_features_path, ts_test_features)\n",
    "\n",
    "# testing targets data preprocessed\n",
    "ts_test_targets_name = 'ts_test_targets' + data_ftype\n",
    "ts_test_targets_path = os.path.join(preprocessed_data_dir, ts_test_targets_name)\n",
    "nprint('Time series test targets path', ts_test_targets_path)\n",
    "np.save(ts_test_targets_path, ts_test_targets)\n",
    "\n",
    "# testing windows generated\n",
    "windows_generated_name = 'test_windows_generated' + data_ftype\n",
    "windows_generated_path = os.path.join(preprocessed_data_dir, windows_generated_name)\n",
    "nprint('Test windows generated path', windows_generated_path)\n",
    "np.save(windows_generated_path, np.array(windows_generated))"
   ]
  },
  {
   "cell_type": "markdown",
   "id": "e00882e4-ad2c-44ad-8001-797e1fbc1e7b",
   "metadata": {},
   "source": [
    "<h3>Creation of a .zip file for uploading to Google Drive</h3>"
   ]
  },
  {
   "cell_type": "code",
   "execution_count": 13,
   "id": "b6c426da-0f00-44d4-aec9-541409714261",
   "metadata": {
    "editable": true,
    "slideshow": {
     "slide_type": ""
    },
    "tags": []
   },
   "outputs": [],
   "source": [
    "preprocessed_dataset_dir = os.path.join(out_data_dir, dataset_name)\n",
    "ftype = 'zip'\n",
    "shutil.make_archive(preprocessed_dataset_dir, ftype, preprocessed_dataset_dir)\n",
    "shutil.rmtree(preprocessed_dataset_dir)"
   ]
  },
  {
   "cell_type": "code",
   "execution_count": null,
   "id": "3bd50404-0b81-451e-95d6-16511b840d54",
   "metadata": {},
   "outputs": [],
   "source": []
  }
 ],
 "metadata": {
  "kernelspec": {
   "display_name": "myenv",
   "language": "python",
   "name": "myenv"
  },
  "language_info": {
   "codemirror_mode": {
    "name": "ipython",
    "version": 3
   },
   "file_extension": ".py",
   "mimetype": "text/x-python",
   "name": "python",
   "nbconvert_exporter": "python",
   "pygments_lexer": "ipython3",
   "version": "3.12.6"
  }
 },
 "nbformat": 4,
 "nbformat_minor": 5
}
