{
 "cells": [
  {
   "cell_type": "markdown",
   "id": "5bc5ba2e-be87-46e9-9331-ef4fa32116a8",
   "metadata": {},
   "source": [
    "<h1>FD001 Tuned CNN Model Training</h1>\n",
    "<ul>\n",
    "    <li>Loading training and validation data</li>\n",
    "    <li>Loading tuned model (best model from hyper tuning trials)</li>\n",
    "    <li>Tuned model training</li>\n",
    "    <li>Saving trained model</li>\n",
    "    <li>Displaying training model metrics</li>\n",
    "    <li>Creation of a .zip file for uploading to Google Drive</li>\n",
    "</ul>"
   ]
  },
  {
   "cell_type": "code",
   "execution_count": 1,
   "id": "be7ad69b-4c21-42f8-b18e-ba65693abe2b",
   "metadata": {},
   "outputs": [
    {
     "name": "stdout",
     "output_type": "stream",
     "text": [
      "devices: PhysicalDevice(name='/physical_device:CPU:0', device_type='CPU')\n"
     ]
    }
   ],
   "source": [
    "from tools import *"
   ]
  },
  {
   "cell_type": "code",
   "execution_count": 2,
   "id": "bac4fcd5-c4e0-4ac3-b927-fc1cabc21091",
   "metadata": {},
   "outputs": [
    {
     "name": "stdout",
     "output_type": "stream",
     "text": [
      "Downloading FD001.zip from Google Drive...\n"
     ]
    },
    {
     "name": "stderr",
     "output_type": "stream",
     "text": [
      "Downloading...\n",
      "From (original): https://drive.google.com/uc?id=107rKeqyMaDncCk6jpbyyCX86xzbMSiDU\n",
      "From (redirected): https://drive.google.com/uc?id=107rKeqyMaDncCk6jpbyyCX86xzbMSiDU&confirm=t&uuid=0d61b045-accb-4039-80fa-4ea7fd13420e\n",
      "To: D:\\virtualenv\\src\\thesis\\cmapss\\tuning\\cnn\\input\\models\\FD001.zip\n",
      "100%|███████████████████████████████████████████████████████████████████████████████| 150M/150M [00:18<00:00, 8.19MB/s]\n"
     ]
    },
    {
     "name": "stdout",
     "output_type": "stream",
     "text": [
      "Extracting FD001.zip...\n",
      "Extraction complete: ./input\\models\n",
      "Downloading FD001.zip from Google Drive...\n"
     ]
    },
    {
     "name": "stderr",
     "output_type": "stream",
     "text": [
      "Downloading...\n",
      "From (original): https://drive.google.com/uc?id=1TnV9sAX2My-R3iSGamX3rVAezoBsGY_M\n",
      "From (redirected): https://drive.google.com/uc?id=1TnV9sAX2My-R3iSGamX3rVAezoBsGY_M&confirm=t&uuid=c77cae46-8269-4eb2-917f-7d92dde7a942\n",
      "To: D:\\virtualenv\\src\\thesis\\cmapss\\tuning\\cnn\\input\\CMAPSSData\\FD001.zip\n",
      "100%|█████████████████████████████████████████████████████████████████████████████| 29.5M/29.5M [00:03<00:00, 8.21MB/s]\n"
     ]
    },
    {
     "name": "stdout",
     "output_type": "stream",
     "text": [
      "Extracting FD001.zip...\n",
      "Extraction complete: ./input\\CMAPSSData\n",
      "\u001b[94m\u001b[1mInput directory\u001b[0m\n",
      "'./input'\n",
      "\u001b[94m\u001b[1mURL input dataset\u001b[0m\n",
      "'https://drive.google.com/file/d/1LU1DQuv7_CzBy2_Abgjg3HsvNDme361O/view?usp=drive_link'\n",
      "\u001b[94m\u001b[1mInput dataset directory\u001b[0m\n",
      "'./input\\\\CMAPSSData'\n",
      "\u001b[94m\u001b[1mOutput directory\u001b[0m\n",
      "'./working'\n",
      "\u001b[94m\u001b[1mOutput models directory\u001b[0m\n",
      "'./working\\\\models'\n",
      "\u001b[94m\u001b[1mOutput plots directory\u001b[0m\n",
      "'./working\\\\plots'\n"
     ]
    }
   ],
   "source": [
    "prepare_dirs(task='tuned-training')"
   ]
  },
  {
   "cell_type": "markdown",
   "id": "d0d7c2b5-bba4-4097-99d9-cdc57545c6ed",
   "metadata": {},
   "source": [
    "<h2>Loading training and validation data</h2>"
   ]
  },
  {
   "cell_type": "code",
   "execution_count": 3,
   "id": "b3a91fd4-ebab-4d72-b978-07c5d3da631b",
   "metadata": {},
   "outputs": [
    {
     "name": "stdout",
     "output_type": "stream",
     "text": [
      "\u001b[94m\u001b[1mTraining features shape\u001b[0m\n",
      "(14184, 30, 14)\n",
      "\u001b[94m\u001b[1mTraining targets shape\u001b[0m\n",
      "(14184,)\n",
      "\u001b[94m\u001b[1mValidation features shape\u001b[0m\n",
      "(3547, 30, 14)\n",
      "\u001b[94m\u001b[1mValidation targets shape\u001b[0m\n",
      "(3547,)\n",
      "\u001b[94m\u001b[1mTesting features shape\u001b[0m\n",
      "(497, 30, 14)\n",
      "\u001b[94m\u001b[1mTesting targets shape\u001b[0m\n",
      "(100,)\n"
     ]
    }
   ],
   "source": [
    "data_ftype = '.npy'\n",
    "\n",
    "ts_train_features_name = 'ts_train_features' + data_ftype\n",
    "ts_train_features_path = os.path.join(dataset_dir, ts_train_features_name)\n",
    "ts_train_targets_name = 'ts_train_targets' + data_ftype\n",
    "ts_train_targets_path = os.path.join(dataset_dir, ts_train_targets_name)\n",
    "\n",
    "ts_val_features_name = 'ts_val_features' + data_ftype\n",
    "ts_val_features_path = os.path.join(dataset_dir, ts_val_features_name)\n",
    "ts_val_targets_name = 'ts_val_targets' + data_ftype\n",
    "ts_val_targets_path = os.path.join(dataset_dir, ts_val_targets_name)\n",
    "\n",
    "ts_test_features_name = 'ts_test_features' + data_ftype\n",
    "ts_test_features_path = os.path.join(dataset_dir, ts_test_features_name)\n",
    "ts_test_targets_name = 'ts_test_targets' + data_ftype\n",
    "ts_test_targets_path = os.path.join(dataset_dir, ts_test_targets_name)\n",
    "\n",
    "ts_train_features = np.load(ts_train_features_path)\n",
    "ts_train_targets = np.load(ts_train_targets_path)\n",
    "\n",
    "ts_val_features = np.load(ts_val_features_path)\n",
    "ts_val_targets = np.load(ts_val_targets_path)\n",
    "\n",
    "ts_test_features = np.load(ts_test_features_path)\n",
    "ts_test_targets = np.load(ts_test_targets_path)\n",
    "\n",
    "\n",
    "nprint(\"Training features shape\", ts_train_features.shape)\n",
    "nprint(\"Training targets shape\", ts_train_targets.shape)\n",
    "nprint(\"Validation features shape\", ts_val_features.shape)\n",
    "nprint(\"Validation targets shape\", ts_val_targets.shape)\n",
    "nprint(\"Testing features shape\", ts_test_features.shape)\n",
    "nprint(\"Testing targets shape\", ts_test_targets.shape)"
   ]
  },
  {
   "cell_type": "markdown",
   "id": "a522eb23-7fbf-402c-b290-96a96a0170cc",
   "metadata": {},
   "source": [
    "<h2>Loading tuned model (best model from hyper tuning trials)</h2>"
   ]
  },
  {
   "cell_type": "code",
   "execution_count": 4,
   "id": "1d660cca-4110-49aa-ba97-d0663041f658",
   "metadata": {},
   "outputs": [
    {
     "name": "stdout",
     "output_type": "stream",
     "text": [
      "Reloading Tuner from ./input\\models\\tuner0.json\n",
      "WARNING:tensorflow:From D:\\virtualenv\\myenv\\Lib\\site-packages\\keras\\src\\backend\\common\\global_state.py:82: The name tf.reset_default_graph is deprecated. Please use tf.compat.v1.reset_default_graph instead.\n",
      "\n"
     ]
    },
    {
     "name": "stderr",
     "output_type": "stream",
     "text": [
      "D:\\virtualenv\\myenv\\Lib\\site-packages\\keras\\src\\saving\\saving_lib.py:713: UserWarning: Skipping variable loading for optimizer 'adam', because it has 2 variables whereas the saved optimizer has 22 variables. \n",
      "  saveable.load_own_variables(weights_store.get(inner_path))\n"
     ]
    },
    {
     "data": {
      "text/html": [
       "<pre style=\"white-space:pre;overflow-x:auto;line-height:normal;font-family:Menlo,'DejaVu Sans Mono',consolas,'Courier New',monospace\"><span style=\"font-weight: bold\">Model: \"functional\"</span>\n",
       "</pre>\n"
      ],
      "text/plain": [
       "\u001b[1mModel: \"functional\"\u001b[0m\n"
      ]
     },
     "metadata": {},
     "output_type": "display_data"
    },
    {
     "data": {
      "text/html": [
       "<pre style=\"white-space:pre;overflow-x:auto;line-height:normal;font-family:Menlo,'DejaVu Sans Mono',consolas,'Courier New',monospace\">┏━━━━━━━━━━━━━━━━━━━━━━━━━━━━━━━━━━━━━━┳━━━━━━━━━━━━━━━━━━━━━━━━━━━━━┳━━━━━━━━━━━━━━━━━┓\n",
       "┃<span style=\"font-weight: bold\"> Layer (type)                         </span>┃<span style=\"font-weight: bold\"> Output Shape                </span>┃<span style=\"font-weight: bold\">         Param # </span>┃\n",
       "┡━━━━━━━━━━━━━━━━━━━━━━━━━━━━━━━━━━━━━━╇━━━━━━━━━━━━━━━━━━━━━━━━━━━━━╇━━━━━━━━━━━━━━━━━┩\n",
       "│ input_layer (<span style=\"color: #0087ff; text-decoration-color: #0087ff\">InputLayer</span>)             │ (<span style=\"color: #00d7ff; text-decoration-color: #00d7ff\">None</span>, <span style=\"color: #00af00; text-decoration-color: #00af00\">30</span>, <span style=\"color: #00af00; text-decoration-color: #00af00\">14</span>)              │               <span style=\"color: #00af00; text-decoration-color: #00af00\">0</span> │\n",
       "├──────────────────────────────────────┼─────────────────────────────┼─────────────────┤\n",
       "│ conv1d (<span style=\"color: #0087ff; text-decoration-color: #0087ff\">Conv1D</span>)                      │ (<span style=\"color: #00d7ff; text-decoration-color: #00d7ff\">None</span>, <span style=\"color: #00af00; text-decoration-color: #00af00\">26</span>, <span style=\"color: #00af00; text-decoration-color: #00af00\">96</span>)              │           <span style=\"color: #00af00; text-decoration-color: #00af00\">6,816</span> │\n",
       "├──────────────────────────────────────┼─────────────────────────────┼─────────────────┤\n",
       "│ conv1d_1 (<span style=\"color: #0087ff; text-decoration-color: #0087ff\">Conv1D</span>)                    │ (<span style=\"color: #00d7ff; text-decoration-color: #00d7ff\">None</span>, <span style=\"color: #00af00; text-decoration-color: #00af00\">22</span>, <span style=\"color: #00af00; text-decoration-color: #00af00\">256</span>)             │         <span style=\"color: #00af00; text-decoration-color: #00af00\">123,136</span> │\n",
       "├──────────────────────────────────────┼─────────────────────────────┼─────────────────┤\n",
       "│ conv1d_2 (<span style=\"color: #0087ff; text-decoration-color: #0087ff\">Conv1D</span>)                    │ (<span style=\"color: #00d7ff; text-decoration-color: #00d7ff\">None</span>, <span style=\"color: #00af00; text-decoration-color: #00af00\">20</span>, <span style=\"color: #00af00; text-decoration-color: #00af00\">256</span>)             │         <span style=\"color: #00af00; text-decoration-color: #00af00\">196,864</span> │\n",
       "├──────────────────────────────────────┼─────────────────────────────┼─────────────────┤\n",
       "│ global_average_pooling1d             │ (<span style=\"color: #00d7ff; text-decoration-color: #00d7ff\">None</span>, <span style=\"color: #00af00; text-decoration-color: #00af00\">256</span>)                 │               <span style=\"color: #00af00; text-decoration-color: #00af00\">0</span> │\n",
       "│ (<span style=\"color: #0087ff; text-decoration-color: #0087ff\">GlobalAveragePooling1D</span>)             │                             │                 │\n",
       "├──────────────────────────────────────┼─────────────────────────────┼─────────────────┤\n",
       "│ dense (<span style=\"color: #0087ff; text-decoration-color: #0087ff\">Dense</span>)                        │ (<span style=\"color: #00d7ff; text-decoration-color: #00d7ff\">None</span>, <span style=\"color: #00af00; text-decoration-color: #00af00\">480</span>)                 │         <span style=\"color: #00af00; text-decoration-color: #00af00\">123,360</span> │\n",
       "├──────────────────────────────────────┼─────────────────────────────┼─────────────────┤\n",
       "│ dense_1 (<span style=\"color: #0087ff; text-decoration-color: #0087ff\">Dense</span>)                      │ (<span style=\"color: #00d7ff; text-decoration-color: #00d7ff\">None</span>, <span style=\"color: #00af00; text-decoration-color: #00af00\">1</span>)                   │             <span style=\"color: #00af00; text-decoration-color: #00af00\">481</span> │\n",
       "└──────────────────────────────────────┴─────────────────────────────┴─────────────────┘\n",
       "</pre>\n"
      ],
      "text/plain": [
       "┏━━━━━━━━━━━━━━━━━━━━━━━━━━━━━━━━━━━━━━┳━━━━━━━━━━━━━━━━━━━━━━━━━━━━━┳━━━━━━━━━━━━━━━━━┓\n",
       "┃\u001b[1m \u001b[0m\u001b[1mLayer (type)                        \u001b[0m\u001b[1m \u001b[0m┃\u001b[1m \u001b[0m\u001b[1mOutput Shape               \u001b[0m\u001b[1m \u001b[0m┃\u001b[1m \u001b[0m\u001b[1m        Param #\u001b[0m\u001b[1m \u001b[0m┃\n",
       "┡━━━━━━━━━━━━━━━━━━━━━━━━━━━━━━━━━━━━━━╇━━━━━━━━━━━━━━━━━━━━━━━━━━━━━╇━━━━━━━━━━━━━━━━━┩\n",
       "│ input_layer (\u001b[38;5;33mInputLayer\u001b[0m)             │ (\u001b[38;5;45mNone\u001b[0m, \u001b[38;5;34m30\u001b[0m, \u001b[38;5;34m14\u001b[0m)              │               \u001b[38;5;34m0\u001b[0m │\n",
       "├──────────────────────────────────────┼─────────────────────────────┼─────────────────┤\n",
       "│ conv1d (\u001b[38;5;33mConv1D\u001b[0m)                      │ (\u001b[38;5;45mNone\u001b[0m, \u001b[38;5;34m26\u001b[0m, \u001b[38;5;34m96\u001b[0m)              │           \u001b[38;5;34m6,816\u001b[0m │\n",
       "├──────────────────────────────────────┼─────────────────────────────┼─────────────────┤\n",
       "│ conv1d_1 (\u001b[38;5;33mConv1D\u001b[0m)                    │ (\u001b[38;5;45mNone\u001b[0m, \u001b[38;5;34m22\u001b[0m, \u001b[38;5;34m256\u001b[0m)             │         \u001b[38;5;34m123,136\u001b[0m │\n",
       "├──────────────────────────────────────┼─────────────────────────────┼─────────────────┤\n",
       "│ conv1d_2 (\u001b[38;5;33mConv1D\u001b[0m)                    │ (\u001b[38;5;45mNone\u001b[0m, \u001b[38;5;34m20\u001b[0m, \u001b[38;5;34m256\u001b[0m)             │         \u001b[38;5;34m196,864\u001b[0m │\n",
       "├──────────────────────────────────────┼─────────────────────────────┼─────────────────┤\n",
       "│ global_average_pooling1d             │ (\u001b[38;5;45mNone\u001b[0m, \u001b[38;5;34m256\u001b[0m)                 │               \u001b[38;5;34m0\u001b[0m │\n",
       "│ (\u001b[38;5;33mGlobalAveragePooling1D\u001b[0m)             │                             │                 │\n",
       "├──────────────────────────────────────┼─────────────────────────────┼─────────────────┤\n",
       "│ dense (\u001b[38;5;33mDense\u001b[0m)                        │ (\u001b[38;5;45mNone\u001b[0m, \u001b[38;5;34m480\u001b[0m)                 │         \u001b[38;5;34m123,360\u001b[0m │\n",
       "├──────────────────────────────────────┼─────────────────────────────┼─────────────────┤\n",
       "│ dense_1 (\u001b[38;5;33mDense\u001b[0m)                      │ (\u001b[38;5;45mNone\u001b[0m, \u001b[38;5;34m1\u001b[0m)                   │             \u001b[38;5;34m481\u001b[0m │\n",
       "└──────────────────────────────────────┴─────────────────────────────┴─────────────────┘\n"
      ]
     },
     "metadata": {},
     "output_type": "display_data"
    },
    {
     "data": {
      "text/html": [
       "<pre style=\"white-space:pre;overflow-x:auto;line-height:normal;font-family:Menlo,'DejaVu Sans Mono',consolas,'Courier New',monospace\"><span style=\"font-weight: bold\"> Total params: </span><span style=\"color: #00af00; text-decoration-color: #00af00\">450,657</span> (1.72 MB)\n",
       "</pre>\n"
      ],
      "text/plain": [
       "\u001b[1m Total params: \u001b[0m\u001b[38;5;34m450,657\u001b[0m (1.72 MB)\n"
      ]
     },
     "metadata": {},
     "output_type": "display_data"
    },
    {
     "data": {
      "text/html": [
       "<pre style=\"white-space:pre;overflow-x:auto;line-height:normal;font-family:Menlo,'DejaVu Sans Mono',consolas,'Courier New',monospace\"><span style=\"font-weight: bold\"> Trainable params: </span><span style=\"color: #00af00; text-decoration-color: #00af00\">450,657</span> (1.72 MB)\n",
       "</pre>\n"
      ],
      "text/plain": [
       "\u001b[1m Trainable params: \u001b[0m\u001b[38;5;34m450,657\u001b[0m (1.72 MB)\n"
      ]
     },
     "metadata": {},
     "output_type": "display_data"
    },
    {
     "data": {
      "text/html": [
       "<pre style=\"white-space:pre;overflow-x:auto;line-height:normal;font-family:Menlo,'DejaVu Sans Mono',consolas,'Courier New',monospace\"><span style=\"font-weight: bold\"> Non-trainable params: </span><span style=\"color: #00af00; text-decoration-color: #00af00\">0</span> (0.00 B)\n",
       "</pre>\n"
      ],
      "text/plain": [
       "\u001b[1m Non-trainable params: \u001b[0m\u001b[38;5;34m0\u001b[0m (0.00 B)\n"
      ]
     },
     "metadata": {},
     "output_type": "display_data"
    }
   ],
   "source": [
    "num_conv1d_layers_bounds = [1, 3]\n",
    "num_conv1d_filters_bounds = [64, 512, 32]\n",
    "num_dense_layers_bounds = [1, 2]\n",
    "num_dense_units_bounds = [64, 512, 32]\n",
    "initial_lr_bounds = [1e-4, 1e-2]\n",
    "batch_size_bounds = [32, 128, 32]\n",
    "\n",
    "rule_hp = RULEstimator_HyperModel(\n",
    "    window_length=window_length, \n",
    "    num_features=ts_train_features.shape[2], \n",
    "    num_targets=1 if len(ts_train_targets.shape)==1 else ts_train_targets.shape[1], \n",
    "    num_conv1d_layers_bounds=num_conv1d_layers_bounds, \n",
    "    num_conv1d_filters_bounds=num_conv1d_filters_bounds, \n",
    "    num_dense_layers_bounds=num_dense_layers_bounds, \n",
    "    num_dense_units_bounds=num_dense_units_bounds, \n",
    "    initial_lr_bounds=initial_lr_bounds,\n",
    "    batch_size_bounds=batch_size_bounds\n",
    ")\n",
    "rule_hp.build(kt.HyperParameters())\n",
    "\n",
    "\n",
    "with tensorflow.device('/GPU:0'):\n",
    "    tuner = kt.Hyperband(\n",
    "        hypermodel=rule_hp,\n",
    "        objective='val_loss',\n",
    "        max_epochs=max_epochs,\n",
    "        factor=factor,\n",
    "        directory=in_dir,\n",
    "        project_name=models_name,\n",
    "    )\n",
    "tuner.reload()\n",
    "tuner.get_best_models()[0].summary()"
   ]
  },
  {
   "cell_type": "markdown",
   "id": "87046fac-d134-4213-a8f9-dde79e76b04f",
   "metadata": {},
   "source": [
    "<h2>Tuned model training</h2>"
   ]
  },
  {
   "cell_type": "code",
   "execution_count": 5,
   "id": "9030ea1b-32c1-4351-b326-344d07d592fc",
   "metadata": {},
   "outputs": [
    {
     "name": "stdout",
     "output_type": "stream",
     "text": [
      "\u001b[94m\u001b[1mbesthyperparameters.values\u001b[0m\n",
      "{'batch_size': 32,\n",
      " 'conv_filters_0': 96,\n",
      " 'conv_filters_1': 256,\n",
      " 'conv_filters_2': 256,\n",
      " 'conv_kernel_size_0': 5,\n",
      " 'conv_kernel_size_1': 5,\n",
      " 'conv_kernel_size_2': 3,\n",
      " 'dense_units_0': 480,\n",
      " 'dense_units_1': 128,\n",
      " 'initial_lr': 0.0013117452857213854,\n",
      " 'num_conv_layers': 3,\n",
      " 'num_dense_layers': 1,\n",
      " 'tuner/bracket': 2,\n",
      " 'tuner/epochs': 20,\n",
      " 'tuner/initial_epoch': 7,\n",
      " 'tuner/round': 2,\n",
      " 'tuner/trial_id': '0013'}\n",
      "\u001b[94m\u001b[1mTraining started: \u001b[0m\n",
      "'2024-12-04 19:35:00'\n",
      "\n",
      "Epoch 1: LearningRateScheduler setting learning rate to 0.001311745261773467.\n",
      "Epoch 1/100\n",
      "\u001b[1m444/444\u001b[0m \u001b[32m━━━━━━━━━━━━━━━━━━━━\u001b[0m\u001b[37m\u001b[0m \u001b[1m8s\u001b[0m 15ms/step - loss: 1198.6359 - val_loss: 459.1524 - learning_rate: 0.0013\n",
      "\n",
      "Epoch 2: LearningRateScheduler setting learning rate to 0.001311745261773467.\n",
      "Epoch 2/100\n",
      "\u001b[1m444/444\u001b[0m \u001b[32m━━━━━━━━━━━━━━━━━━━━\u001b[0m\u001b[37m\u001b[0m \u001b[1m8s\u001b[0m 17ms/step - loss: 380.7833 - val_loss: 251.2752 - learning_rate: 0.0013\n",
      "\n",
      "Epoch 3: LearningRateScheduler setting learning rate to 0.001311745261773467.\n",
      "Epoch 3/100\n",
      "\u001b[1m444/444\u001b[0m \u001b[32m━━━━━━━━━━━━━━━━━━━━\u001b[0m\u001b[37m\u001b[0m \u001b[1m8s\u001b[0m 18ms/step - loss: 271.7015 - val_loss: 273.2177 - learning_rate: 0.0013\n",
      "\n",
      "Epoch 4: LearningRateScheduler setting learning rate to 0.001311745261773467.\n",
      "Epoch 4/100\n",
      "\u001b[1m444/444\u001b[0m \u001b[32m━━━━━━━━━━━━━━━━━━━━\u001b[0m\u001b[37m\u001b[0m \u001b[1m7s\u001b[0m 16ms/step - loss: 232.1541 - val_loss: 346.9471 - learning_rate: 0.0013\n",
      "\n",
      "Epoch 5: LearningRateScheduler setting learning rate to 0.001311745261773467.\n",
      "Epoch 5/100\n",
      "\u001b[1m444/444\u001b[0m \u001b[32m━━━━━━━━━━━━━━━━━━━━\u001b[0m\u001b[37m\u001b[0m \u001b[1m8s\u001b[0m 18ms/step - loss: 220.0656 - val_loss: 242.1601 - learning_rate: 0.0013\n",
      "\n",
      "Epoch 6: LearningRateScheduler setting learning rate to 0.001311745261773467.\n",
      "Epoch 6/100\n",
      "\u001b[1m444/444\u001b[0m \u001b[32m━━━━━━━━━━━━━━━━━━━━\u001b[0m\u001b[37m\u001b[0m \u001b[1m7s\u001b[0m 17ms/step - loss: 190.9281 - val_loss: 241.1451 - learning_rate: 0.0013\n",
      "\n",
      "Epoch 7: LearningRateScheduler setting learning rate to 0.001311745261773467.\n",
      "Epoch 7/100\n",
      "\u001b[1m444/444\u001b[0m \u001b[32m━━━━━━━━━━━━━━━━━━━━\u001b[0m\u001b[37m\u001b[0m \u001b[1m7s\u001b[0m 17ms/step - loss: 167.7780 - val_loss: 130.3774 - learning_rate: 0.0013\n",
      "\n",
      "Epoch 8: LearningRateScheduler setting learning rate to 0.001311745261773467.\n",
      "Epoch 8/100\n",
      "\u001b[1m444/444\u001b[0m \u001b[32m━━━━━━━━━━━━━━━━━━━━\u001b[0m\u001b[37m\u001b[0m \u001b[1m7s\u001b[0m 17ms/step - loss: 130.4499 - val_loss: 116.8819 - learning_rate: 0.0013\n",
      "\n",
      "Epoch 9: LearningRateScheduler setting learning rate to 0.001311745261773467.\n",
      "Epoch 9/100\n",
      "\u001b[1m444/444\u001b[0m \u001b[32m━━━━━━━━━━━━━━━━━━━━\u001b[0m\u001b[37m\u001b[0m \u001b[1m7s\u001b[0m 17ms/step - loss: 111.1788 - val_loss: 84.0912 - learning_rate: 0.0013\n",
      "\n",
      "Epoch 10: LearningRateScheduler setting learning rate to 0.001311745261773467.\n",
      "Epoch 10/100\n",
      "\u001b[1m444/444\u001b[0m \u001b[32m━━━━━━━━━━━━━━━━━━━━\u001b[0m\u001b[37m\u001b[0m \u001b[1m7s\u001b[0m 16ms/step - loss: 76.2175 - val_loss: 144.7502 - learning_rate: 0.0013\n",
      "\n",
      "Epoch 11: LearningRateScheduler setting learning rate to 0.00013117452617734672.\n",
      "Epoch 11/100\n",
      "\u001b[1m444/444\u001b[0m \u001b[32m━━━━━━━━━━━━━━━━━━━━\u001b[0m\u001b[37m\u001b[0m \u001b[1m8s\u001b[0m 17ms/step - loss: 53.6011 - val_loss: 46.0865 - learning_rate: 1.3117e-04\n",
      "\n",
      "Epoch 12: LearningRateScheduler setting learning rate to 0.00013117452908772975.\n",
      "Epoch 12/100\n",
      "\u001b[1m444/444\u001b[0m \u001b[32m━━━━━━━━━━━━━━━━━━━━\u001b[0m\u001b[37m\u001b[0m \u001b[1m7s\u001b[0m 16ms/step - loss: 44.2568 - val_loss: 42.8004 - learning_rate: 1.3117e-04\n",
      "\n",
      "Epoch 13: LearningRateScheduler setting learning rate to 0.00013117452908772975.\n",
      "Epoch 13/100\n",
      "\u001b[1m444/444\u001b[0m \u001b[32m━━━━━━━━━━━━━━━━━━━━\u001b[0m\u001b[37m\u001b[0m \u001b[1m7s\u001b[0m 16ms/step - loss: 40.0330 - val_loss: 39.8164 - learning_rate: 1.3117e-04\n",
      "\n",
      "Epoch 14: LearningRateScheduler setting learning rate to 0.00013117452908772975.\n",
      "Epoch 14/100\n",
      "\u001b[1m444/444\u001b[0m \u001b[32m━━━━━━━━━━━━━━━━━━━━\u001b[0m\u001b[37m\u001b[0m \u001b[1m7s\u001b[0m 17ms/step - loss: 36.7634 - val_loss: 36.9343 - learning_rate: 1.3117e-04\n",
      "\n",
      "Epoch 15: LearningRateScheduler setting learning rate to 0.00013117452908772975.\n",
      "Epoch 15/100\n",
      "\u001b[1m444/444\u001b[0m \u001b[32m━━━━━━━━━━━━━━━━━━━━\u001b[0m\u001b[37m\u001b[0m \u001b[1m7s\u001b[0m 16ms/step - loss: 34.0012 - val_loss: 39.8158 - learning_rate: 1.3117e-04\n",
      "\n",
      "Epoch 16: LearningRateScheduler setting learning rate to 0.00013117452908772975.\n",
      "Epoch 16/100\n",
      "\u001b[1m444/444\u001b[0m \u001b[32m━━━━━━━━━━━━━━━━━━━━\u001b[0m\u001b[37m\u001b[0m \u001b[1m7s\u001b[0m 17ms/step - loss: 34.0038 - val_loss: 32.9583 - learning_rate: 1.3117e-04\n",
      "\n",
      "Epoch 17: LearningRateScheduler setting learning rate to 0.00013117452908772975.\n",
      "Epoch 17/100\n",
      "\u001b[1m444/444\u001b[0m \u001b[32m━━━━━━━━━━━━━━━━━━━━\u001b[0m\u001b[37m\u001b[0m \u001b[1m7s\u001b[0m 16ms/step - loss: 29.1792 - val_loss: 33.1911 - learning_rate: 1.3117e-04\n",
      "\n",
      "Epoch 18: LearningRateScheduler setting learning rate to 0.00013117452908772975.\n",
      "Epoch 18/100\n",
      "\u001b[1m444/444\u001b[0m \u001b[32m━━━━━━━━━━━━━━━━━━━━\u001b[0m\u001b[37m\u001b[0m \u001b[1m7s\u001b[0m 16ms/step - loss: 27.8236 - val_loss: 29.3291 - learning_rate: 1.3117e-04\n",
      "\n",
      "Epoch 19: LearningRateScheduler setting learning rate to 0.00013117452908772975.\n",
      "Epoch 19/100\n",
      "\u001b[1m444/444\u001b[0m \u001b[32m━━━━━━━━━━━━━━━━━━━━\u001b[0m\u001b[37m\u001b[0m \u001b[1m7s\u001b[0m 16ms/step - loss: 26.4706 - val_loss: 27.3079 - learning_rate: 1.3117e-04\n",
      "\n",
      "Epoch 20: LearningRateScheduler setting learning rate to 0.00013117452908772975.\n",
      "Epoch 20/100\n",
      "\u001b[1m444/444\u001b[0m \u001b[32m━━━━━━━━━━━━━━━━━━━━\u001b[0m\u001b[37m\u001b[0m \u001b[1m7s\u001b[0m 17ms/step - loss: 24.3167 - val_loss: 25.0830 - learning_rate: 1.3117e-04\n",
      "\n",
      "Epoch 21: LearningRateScheduler setting learning rate to 0.00013117452908772975.\n",
      "Epoch 21/100\n",
      "\u001b[1m444/444\u001b[0m \u001b[32m━━━━━━━━━━━━━━━━━━━━\u001b[0m\u001b[37m\u001b[0m \u001b[1m7s\u001b[0m 16ms/step - loss: 23.6563 - val_loss: 23.9189 - learning_rate: 1.3117e-04\n",
      "\n",
      "Epoch 22: LearningRateScheduler setting learning rate to 0.00013117452908772975.\n",
      "Epoch 22/100\n",
      "\u001b[1m444/444\u001b[0m \u001b[32m━━━━━━━━━━━━━━━━━━━━\u001b[0m\u001b[37m\u001b[0m \u001b[1m7s\u001b[0m 17ms/step - loss: 21.5922 - val_loss: 23.7040 - learning_rate: 1.3117e-04\n",
      "\n",
      "Epoch 23: LearningRateScheduler setting learning rate to 0.00013117452908772975.\n",
      "Epoch 23/100\n",
      "\u001b[1m444/444\u001b[0m \u001b[32m━━━━━━━━━━━━━━━━━━━━\u001b[0m\u001b[37m\u001b[0m \u001b[1m7s\u001b[0m 16ms/step - loss: 20.6786 - val_loss: 23.6618 - learning_rate: 1.3117e-04\n",
      "\n",
      "Epoch 24: LearningRateScheduler setting learning rate to 0.00013117452908772975.\n",
      "Epoch 24/100\n",
      "\u001b[1m444/444\u001b[0m \u001b[32m━━━━━━━━━━━━━━━━━━━━\u001b[0m\u001b[37m\u001b[0m \u001b[1m8s\u001b[0m 17ms/step - loss: 19.3359 - val_loss: 20.4139 - learning_rate: 1.3117e-04\n",
      "\n",
      "Epoch 25: LearningRateScheduler setting learning rate to 0.00013117452908772975.\n",
      "Epoch 25/100\n",
      "\u001b[1m444/444\u001b[0m \u001b[32m━━━━━━━━━━━━━━━━━━━━\u001b[0m\u001b[37m\u001b[0m \u001b[1m7s\u001b[0m 16ms/step - loss: 19.0016 - val_loss: 19.6084 - learning_rate: 1.3117e-04\n",
      "\n",
      "Epoch 26: LearningRateScheduler setting learning rate to 0.00013117452908772975.\n",
      "Epoch 26/100\n",
      "\u001b[1m444/444\u001b[0m \u001b[32m━━━━━━━━━━━━━━━━━━━━\u001b[0m\u001b[37m\u001b[0m \u001b[1m7s\u001b[0m 16ms/step - loss: 17.0974 - val_loss: 19.2796 - learning_rate: 1.3117e-04\n",
      "\n",
      "Epoch 27: LearningRateScheduler setting learning rate to 0.00013117452908772975.\n",
      "Epoch 27/100\n",
      "\u001b[1m444/444\u001b[0m \u001b[32m━━━━━━━━━━━━━━━━━━━━\u001b[0m\u001b[37m\u001b[0m \u001b[1m8s\u001b[0m 17ms/step - loss: 17.0226 - val_loss: 18.5498 - learning_rate: 1.3117e-04\n",
      "\n",
      "Epoch 28: LearningRateScheduler setting learning rate to 0.00013117452908772975.\n",
      "Epoch 28/100\n",
      "\u001b[1m444/444\u001b[0m \u001b[32m━━━━━━━━━━━━━━━━━━━━\u001b[0m\u001b[37m\u001b[0m \u001b[1m7s\u001b[0m 16ms/step - loss: 15.9369 - val_loss: 17.4828 - learning_rate: 1.3117e-04\n",
      "\n",
      "Epoch 29: LearningRateScheduler setting learning rate to 0.00013117452908772975.\n",
      "Epoch 29/100\n",
      "\u001b[1m444/444\u001b[0m \u001b[32m━━━━━━━━━━━━━━━━━━━━\u001b[0m\u001b[37m\u001b[0m \u001b[1m7s\u001b[0m 17ms/step - loss: 15.7513 - val_loss: 16.4360 - learning_rate: 1.3117e-04\n",
      "\n",
      "Epoch 30: LearningRateScheduler setting learning rate to 0.00013117452908772975.\n",
      "Epoch 30/100\n",
      "\u001b[1m444/444\u001b[0m \u001b[32m━━━━━━━━━━━━━━━━━━━━\u001b[0m\u001b[37m\u001b[0m \u001b[1m7s\u001b[0m 17ms/step - loss: 14.5860 - val_loss: 15.7076 - learning_rate: 1.3117e-04\n",
      "\n",
      "Epoch 31: LearningRateScheduler setting learning rate to 0.00013117452908772975.\n",
      "Epoch 31/100\n",
      "\u001b[1m444/444\u001b[0m \u001b[32m━━━━━━━━━━━━━━━━━━━━\u001b[0m\u001b[37m\u001b[0m \u001b[1m7s\u001b[0m 17ms/step - loss: 14.4923 - val_loss: 14.9423 - learning_rate: 1.3117e-04\n",
      "\n",
      "Epoch 32: LearningRateScheduler setting learning rate to 0.00013117452908772975.\n",
      "Epoch 32/100\n",
      "\u001b[1m444/444\u001b[0m \u001b[32m━━━━━━━━━━━━━━━━━━━━\u001b[0m\u001b[37m\u001b[0m \u001b[1m8s\u001b[0m 18ms/step - loss: 13.1053 - val_loss: 17.2790 - learning_rate: 1.3117e-04\n",
      "\n",
      "Epoch 33: LearningRateScheduler setting learning rate to 0.00013117452908772975.\n",
      "Epoch 33/100\n",
      "\u001b[1m444/444\u001b[0m \u001b[32m━━━━━━━━━━━━━━━━━━━━\u001b[0m\u001b[37m\u001b[0m \u001b[1m9s\u001b[0m 19ms/step - loss: 13.9286 - val_loss: 16.3536 - learning_rate: 1.3117e-04\n",
      "\n",
      "Epoch 34: LearningRateScheduler setting learning rate to 0.00013117452908772975.\n",
      "Epoch 34/100\n",
      "\u001b[1m444/444\u001b[0m \u001b[32m━━━━━━━━━━━━━━━━━━━━\u001b[0m\u001b[37m\u001b[0m \u001b[1m8s\u001b[0m 18ms/step - loss: 12.8492 - val_loss: 15.7384 - learning_rate: 1.3117e-04\n",
      "\n",
      "Epoch 35: LearningRateScheduler setting learning rate to 0.00013117452908772975.\n",
      "Epoch 35/100\n",
      "\u001b[1m444/444\u001b[0m \u001b[32m━━━━━━━━━━━━━━━━━━━━\u001b[0m\u001b[37m\u001b[0m \u001b[1m8s\u001b[0m 18ms/step - loss: 12.0351 - val_loss: 13.5245 - learning_rate: 1.3117e-04\n",
      "\n",
      "Epoch 36: LearningRateScheduler setting learning rate to 0.00013117452908772975.\n",
      "Epoch 36/100\n",
      "\u001b[1m444/444\u001b[0m \u001b[32m━━━━━━━━━━━━━━━━━━━━\u001b[0m\u001b[37m\u001b[0m \u001b[1m8s\u001b[0m 18ms/step - loss: 11.9068 - val_loss: 12.5786 - learning_rate: 1.3117e-04\n",
      "\n",
      "Epoch 37: LearningRateScheduler setting learning rate to 0.00013117452908772975.\n",
      "Epoch 37/100\n",
      "\u001b[1m444/444\u001b[0m \u001b[32m━━━━━━━━━━━━━━━━━━━━\u001b[0m\u001b[37m\u001b[0m \u001b[1m8s\u001b[0m 18ms/step - loss: 10.9977 - val_loss: 13.0858 - learning_rate: 1.3117e-04\n",
      "\n",
      "Epoch 38: LearningRateScheduler setting learning rate to 0.00013117452908772975.\n",
      "Epoch 38/100\n",
      "\u001b[1m444/444\u001b[0m \u001b[32m━━━━━━━━━━━━━━━━━━━━\u001b[0m\u001b[37m\u001b[0m \u001b[1m8s\u001b[0m 17ms/step - loss: 10.9382 - val_loss: 19.1912 - learning_rate: 1.3117e-04\n",
      "\n",
      "Epoch 39: LearningRateScheduler setting learning rate to 0.00013117452908772975.\n",
      "Epoch 39/100\n",
      "\u001b[1m444/444\u001b[0m \u001b[32m━━━━━━━━━━━━━━━━━━━━\u001b[0m\u001b[37m\u001b[0m \u001b[1m8s\u001b[0m 17ms/step - loss: 10.7945 - val_loss: 18.2834 - learning_rate: 1.3117e-04\n",
      "\n",
      "Epoch 40: LearningRateScheduler setting learning rate to 0.00013117452908772975.\n",
      "Epoch 40/100\n",
      "\u001b[1m444/444\u001b[0m \u001b[32m━━━━━━━━━━━━━━━━━━━━\u001b[0m\u001b[37m\u001b[0m \u001b[1m10s\u001b[0m 22ms/step - loss: 11.1700 - val_loss: 11.9959 - learning_rate: 1.3117e-04\n",
      "\n",
      "Epoch 41: LearningRateScheduler setting learning rate to 1.3117452908772975e-05.\n",
      "Epoch 41/100\n",
      "\u001b[1m444/444\u001b[0m \u001b[32m━━━━━━━━━━━━━━━━━━━━\u001b[0m\u001b[37m\u001b[0m \u001b[1m8s\u001b[0m 18ms/step - loss: 8.7328 - val_loss: 10.7317 - learning_rate: 1.3117e-05\n",
      "\n",
      "Epoch 42: LearningRateScheduler setting learning rate to 1.3117452908772975e-05.\n",
      "Epoch 42/100\n",
      "\u001b[1m444/444\u001b[0m \u001b[32m━━━━━━━━━━━━━━━━━━━━\u001b[0m\u001b[37m\u001b[0m \u001b[1m8s\u001b[0m 17ms/step - loss: 8.3587 - val_loss: 11.0927 - learning_rate: 1.3117e-05\n",
      "\n",
      "Epoch 43: LearningRateScheduler setting learning rate to 1.3117452908772975e-05.\n",
      "Epoch 43/100\n",
      "\u001b[1m444/444\u001b[0m \u001b[32m━━━━━━━━━━━━━━━━━━━━\u001b[0m\u001b[37m\u001b[0m \u001b[1m8s\u001b[0m 17ms/step - loss: 8.3093 - val_loss: 10.5288 - learning_rate: 1.3117e-05\n",
      "\n",
      "Epoch 44: LearningRateScheduler setting learning rate to 1.3117452908772975e-05.\n",
      "Epoch 44/100\n",
      "\u001b[1m444/444\u001b[0m \u001b[32m━━━━━━━━━━━━━━━━━━━━\u001b[0m\u001b[37m\u001b[0m \u001b[1m8s\u001b[0m 17ms/step - loss: 8.1031 - val_loss: 10.4677 - learning_rate: 1.3117e-05\n",
      "\n",
      "Epoch 45: LearningRateScheduler setting learning rate to 1.3117452908772975e-05.\n",
      "Epoch 45/100\n",
      "\u001b[1m444/444\u001b[0m \u001b[32m━━━━━━━━━━━━━━━━━━━━\u001b[0m\u001b[37m\u001b[0m \u001b[1m8s\u001b[0m 17ms/step - loss: 8.1373 - val_loss: 10.6263 - learning_rate: 1.3117e-05\n",
      "\n",
      "Epoch 46: LearningRateScheduler setting learning rate to 1.3117452908772975e-05.\n",
      "Epoch 46/100\n",
      "\u001b[1m444/444\u001b[0m \u001b[32m━━━━━━━━━━━━━━━━━━━━\u001b[0m\u001b[37m\u001b[0m \u001b[1m8s\u001b[0m 17ms/step - loss: 8.1165 - val_loss: 10.4467 - learning_rate: 1.3117e-05\n",
      "\n",
      "Epoch 47: LearningRateScheduler setting learning rate to 1.3117452908772975e-05.\n",
      "Epoch 47/100\n",
      "\u001b[1m444/444\u001b[0m \u001b[32m━━━━━━━━━━━━━━━━━━━━\u001b[0m\u001b[37m\u001b[0m \u001b[1m8s\u001b[0m 17ms/step - loss: 8.0778 - val_loss: 10.4136 - learning_rate: 1.3117e-05\n",
      "\n",
      "Epoch 48: LearningRateScheduler setting learning rate to 1.3117452908772975e-05.\n",
      "Epoch 48/100\n",
      "\u001b[1m444/444\u001b[0m \u001b[32m━━━━━━━━━━━━━━━━━━━━\u001b[0m\u001b[37m\u001b[0m \u001b[1m8s\u001b[0m 17ms/step - loss: 8.1970 - val_loss: 10.4257 - learning_rate: 1.3117e-05\n",
      "\n",
      "Epoch 49: LearningRateScheduler setting learning rate to 1.3117452908772975e-05.\n",
      "Epoch 49/100\n",
      "\u001b[1m444/444\u001b[0m \u001b[32m━━━━━━━━━━━━━━━━━━━━\u001b[0m\u001b[37m\u001b[0m \u001b[1m8s\u001b[0m 17ms/step - loss: 7.8190 - val_loss: 10.2746 - learning_rate: 1.3117e-05\n",
      "\n",
      "Epoch 50: LearningRateScheduler setting learning rate to 1.3117452908772975e-05.\n",
      "Epoch 50/100\n",
      "\u001b[1m444/444\u001b[0m \u001b[32m━━━━━━━━━━━━━━━━━━━━\u001b[0m\u001b[37m\u001b[0m \u001b[1m8s\u001b[0m 17ms/step - loss: 7.6131 - val_loss: 10.3721 - learning_rate: 1.3117e-05\n",
      "\n",
      "Epoch 51: LearningRateScheduler setting learning rate to 1.3117452908772975e-05.\n",
      "Epoch 51/100\n",
      "\u001b[1m444/444\u001b[0m \u001b[32m━━━━━━━━━━━━━━━━━━━━\u001b[0m\u001b[37m\u001b[0m \u001b[1m8s\u001b[0m 18ms/step - loss: 8.0500 - val_loss: 10.1185 - learning_rate: 1.3117e-05\n",
      "\n",
      "Epoch 52: LearningRateScheduler setting learning rate to 1.3117452908772975e-05.\n",
      "Epoch 52/100\n",
      "\u001b[1m444/444\u001b[0m \u001b[32m━━━━━━━━━━━━━━━━━━━━\u001b[0m\u001b[37m\u001b[0m \u001b[1m8s\u001b[0m 17ms/step - loss: 8.0255 - val_loss: 10.1775 - learning_rate: 1.3117e-05\n",
      "\n",
      "Epoch 53: LearningRateScheduler setting learning rate to 1.3117452908772975e-05.\n",
      "Epoch 53/100\n",
      "\u001b[1m444/444\u001b[0m \u001b[32m━━━━━━━━━━━━━━━━━━━━\u001b[0m\u001b[37m\u001b[0m \u001b[1m8s\u001b[0m 17ms/step - loss: 7.9675 - val_loss: 10.2285 - learning_rate: 1.3117e-05\n",
      "\n",
      "Epoch 54: LearningRateScheduler setting learning rate to 1.3117452908772975e-05.\n",
      "Epoch 54/100\n",
      "\u001b[1m444/444\u001b[0m \u001b[32m━━━━━━━━━━━━━━━━━━━━\u001b[0m\u001b[37m\u001b[0m \u001b[1m8s\u001b[0m 18ms/step - loss: 7.9491 - val_loss: 10.1168 - learning_rate: 1.3117e-05\n",
      "\n",
      "Epoch 55: LearningRateScheduler setting learning rate to 1.3117452908772975e-05.\n",
      "Epoch 55/100\n",
      "\u001b[1m444/444\u001b[0m \u001b[32m━━━━━━━━━━━━━━━━━━━━\u001b[0m\u001b[37m\u001b[0m \u001b[1m8s\u001b[0m 17ms/step - loss: 7.8340 - val_loss: 10.0539 - learning_rate: 1.3117e-05\n",
      "\n",
      "Epoch 56: LearningRateScheduler setting learning rate to 1.3117452908772975e-05.\n",
      "Epoch 56/100\n",
      "\u001b[1m444/444\u001b[0m \u001b[32m━━━━━━━━━━━━━━━━━━━━\u001b[0m\u001b[37m\u001b[0m \u001b[1m8s\u001b[0m 17ms/step - loss: 7.6938 - val_loss: 10.0339 - learning_rate: 1.3117e-05\n",
      "\n",
      "Epoch 57: LearningRateScheduler setting learning rate to 1.3117452908772975e-05.\n",
      "Epoch 57/100\n",
      "\u001b[1m444/444\u001b[0m \u001b[32m━━━━━━━━━━━━━━━━━━━━\u001b[0m\u001b[37m\u001b[0m \u001b[1m8s\u001b[0m 17ms/step - loss: 7.9744 - val_loss: 9.9230 - learning_rate: 1.3117e-05\n",
      "\n",
      "Epoch 58: LearningRateScheduler setting learning rate to 1.3117452908772975e-05.\n",
      "Epoch 58/100\n",
      "\u001b[1m444/444\u001b[0m \u001b[32m━━━━━━━━━━━━━━━━━━━━\u001b[0m\u001b[37m\u001b[0m \u001b[1m8s\u001b[0m 17ms/step - loss: 7.6835 - val_loss: 9.9877 - learning_rate: 1.3117e-05\n",
      "\n",
      "Epoch 59: LearningRateScheduler setting learning rate to 1.3117452908772975e-05.\n",
      "Epoch 59/100\n",
      "\u001b[1m444/444\u001b[0m \u001b[32m━━━━━━━━━━━━━━━━━━━━\u001b[0m\u001b[37m\u001b[0m \u001b[1m8s\u001b[0m 18ms/step - loss: 7.6368 - val_loss: 9.7911 - learning_rate: 1.3117e-05\n",
      "\n",
      "Epoch 60: LearningRateScheduler setting learning rate to 1.3117452908772975e-05.\n",
      "Epoch 60/100\n",
      "\u001b[1m444/444\u001b[0m \u001b[32m━━━━━━━━━━━━━━━━━━━━\u001b[0m\u001b[37m\u001b[0m \u001b[1m8s\u001b[0m 17ms/step - loss: 7.6851 - val_loss: 9.8278 - learning_rate: 1.3117e-05\n",
      "\n",
      "Epoch 61: LearningRateScheduler setting learning rate to 1.3117452908772975e-05.\n",
      "Epoch 61/100\n",
      "\u001b[1m444/444\u001b[0m \u001b[32m━━━━━━━━━━━━━━━━━━━━\u001b[0m\u001b[37m\u001b[0m \u001b[1m8s\u001b[0m 18ms/step - loss: 7.5619 - val_loss: 9.8114 - learning_rate: 1.3117e-05\n",
      "\n",
      "Epoch 62: LearningRateScheduler setting learning rate to 1.3117452908772975e-05.\n",
      "Epoch 62/100\n",
      "\u001b[1m444/444\u001b[0m \u001b[32m━━━━━━━━━━━━━━━━━━━━\u001b[0m\u001b[37m\u001b[0m \u001b[1m8s\u001b[0m 18ms/step - loss: 7.6663 - val_loss: 9.9018 - learning_rate: 1.3117e-05\n",
      "\n",
      "Epoch 63: LearningRateScheduler setting learning rate to 1.3117452908772975e-05.\n",
      "Epoch 63/100\n",
      "\u001b[1m444/444\u001b[0m \u001b[32m━━━━━━━━━━━━━━━━━━━━\u001b[0m\u001b[37m\u001b[0m \u001b[1m8s\u001b[0m 17ms/step - loss: 7.5718 - val_loss: 9.8142 - learning_rate: 1.3117e-05\n",
      "\n",
      "Epoch 64: LearningRateScheduler setting learning rate to 1.3117452908772975e-05.\n",
      "Epoch 64/100\n",
      "\u001b[1m444/444\u001b[0m \u001b[32m━━━━━━━━━━━━━━━━━━━━\u001b[0m\u001b[37m\u001b[0m \u001b[1m8s\u001b[0m 18ms/step - loss: 7.4752 - val_loss: 9.7686 - learning_rate: 1.3117e-05\n",
      "\n",
      "Epoch 65: LearningRateScheduler setting learning rate to 1.3117452908772975e-05.\n",
      "Epoch 65/100\n",
      "\u001b[1m444/444\u001b[0m \u001b[32m━━━━━━━━━━━━━━━━━━━━\u001b[0m\u001b[37m\u001b[0m \u001b[1m8s\u001b[0m 18ms/step - loss: 7.5130 - val_loss: 9.6481 - learning_rate: 1.3117e-05\n",
      "\n",
      "Epoch 66: LearningRateScheduler setting learning rate to 1.3117452908772975e-05.\n",
      "Epoch 66/100\n",
      "\u001b[1m444/444\u001b[0m \u001b[32m━━━━━━━━━━━━━━━━━━━━\u001b[0m\u001b[37m\u001b[0m \u001b[1m8s\u001b[0m 18ms/step - loss: 7.3010 - val_loss: 9.7441 - learning_rate: 1.3117e-05\n",
      "\n",
      "Epoch 67: LearningRateScheduler setting learning rate to 1.3117452908772975e-05.\n",
      "Epoch 67/100\n",
      "\u001b[1m444/444\u001b[0m \u001b[32m━━━━━━━━━━━━━━━━━━━━\u001b[0m\u001b[37m\u001b[0m \u001b[1m8s\u001b[0m 18ms/step - loss: 7.3869 - val_loss: 9.6647 - learning_rate: 1.3117e-05\n",
      "\n",
      "Epoch 68: LearningRateScheduler setting learning rate to 1.3117452908772975e-05.\n",
      "Epoch 68/100\n",
      "\u001b[1m444/444\u001b[0m \u001b[32m━━━━━━━━━━━━━━━━━━━━\u001b[0m\u001b[37m\u001b[0m \u001b[1m8s\u001b[0m 18ms/step - loss: 7.3014 - val_loss: 9.6154 - learning_rate: 1.3117e-05\n",
      "\n",
      "Epoch 69: LearningRateScheduler setting learning rate to 1.3117452908772975e-05.\n",
      "Epoch 69/100\n",
      "\u001b[1m444/444\u001b[0m \u001b[32m━━━━━━━━━━━━━━━━━━━━\u001b[0m\u001b[37m\u001b[0m \u001b[1m8s\u001b[0m 18ms/step - loss: 7.2460 - val_loss: 9.9118 - learning_rate: 1.3117e-05\n",
      "\n",
      "Epoch 70: LearningRateScheduler setting learning rate to 1.3117452908772975e-05.\n",
      "Epoch 70/100\n",
      "\u001b[1m444/444\u001b[0m \u001b[32m━━━━━━━━━━━━━━━━━━━━\u001b[0m\u001b[37m\u001b[0m \u001b[1m8s\u001b[0m 18ms/step - loss: 7.2972 - val_loss: 9.5540 - learning_rate: 1.3117e-05\n",
      "\n",
      "Epoch 71: LearningRateScheduler setting learning rate to 1.3117452908772975e-05.\n",
      "Epoch 71/100\n",
      "\u001b[1m444/444\u001b[0m \u001b[32m━━━━━━━━━━━━━━━━━━━━\u001b[0m\u001b[37m\u001b[0m \u001b[1m8s\u001b[0m 18ms/step - loss: 7.4221 - val_loss: 9.7726 - learning_rate: 1.3117e-05\n",
      "\n",
      "Epoch 72: LearningRateScheduler setting learning rate to 1.3117452908772975e-05.\n",
      "Epoch 72/100\n",
      "\u001b[1m444/444\u001b[0m \u001b[32m━━━━━━━━━━━━━━━━━━━━\u001b[0m\u001b[37m\u001b[0m \u001b[1m8s\u001b[0m 18ms/step - loss: 7.4928 - val_loss: 9.5670 - learning_rate: 1.3117e-05\n",
      "\n",
      "Epoch 73: LearningRateScheduler setting learning rate to 1.3117452908772975e-05.\n",
      "Epoch 73/100\n",
      "\u001b[1m444/444\u001b[0m \u001b[32m━━━━━━━━━━━━━━━━━━━━\u001b[0m\u001b[37m\u001b[0m \u001b[1m8s\u001b[0m 18ms/step - loss: 7.1706 - val_loss: 9.4292 - learning_rate: 1.3117e-05\n",
      "\n",
      "Epoch 74: LearningRateScheduler setting learning rate to 1.3117452908772975e-05.\n",
      "Epoch 74/100\n",
      "\u001b[1m444/444\u001b[0m \u001b[32m━━━━━━━━━━━━━━━━━━━━\u001b[0m\u001b[37m\u001b[0m \u001b[1m8s\u001b[0m 18ms/step - loss: 7.0293 - val_loss: 9.3917 - learning_rate: 1.3117e-05\n",
      "\n",
      "Epoch 75: LearningRateScheduler setting learning rate to 1.3117452908772975e-05.\n",
      "Epoch 75/100\n",
      "\u001b[1m444/444\u001b[0m \u001b[32m━━━━━━━━━━━━━━━━━━━━\u001b[0m\u001b[37m\u001b[0m \u001b[1m8s\u001b[0m 18ms/step - loss: 7.1037 - val_loss: 9.5415 - learning_rate: 1.3117e-05\n",
      "\n",
      "Epoch 76: LearningRateScheduler setting learning rate to 1.3117452908772975e-05.\n",
      "Epoch 76/100\n",
      "\u001b[1m444/444\u001b[0m \u001b[32m━━━━━━━━━━━━━━━━━━━━\u001b[0m\u001b[37m\u001b[0m \u001b[1m8s\u001b[0m 18ms/step - loss: 7.0930 - val_loss: 9.3018 - learning_rate: 1.3117e-05\n",
      "\n",
      "Epoch 77: LearningRateScheduler setting learning rate to 1.3117452908772975e-05.\n",
      "Epoch 77/100\n",
      "\u001b[1m444/444\u001b[0m \u001b[32m━━━━━━━━━━━━━━━━━━━━\u001b[0m\u001b[37m\u001b[0m \u001b[1m8s\u001b[0m 18ms/step - loss: 7.1287 - val_loss: 9.2732 - learning_rate: 1.3117e-05\n",
      "\n",
      "Epoch 78: LearningRateScheduler setting learning rate to 1.3117452908772975e-05.\n",
      "Epoch 78/100\n",
      "\u001b[1m444/444\u001b[0m \u001b[32m━━━━━━━━━━━━━━━━━━━━\u001b[0m\u001b[37m\u001b[0m \u001b[1m8s\u001b[0m 18ms/step - loss: 7.0103 - val_loss: 9.6455 - learning_rate: 1.3117e-05\n",
      "\n",
      "Epoch 79: LearningRateScheduler setting learning rate to 1.3117452908772975e-05.\n",
      "Epoch 79/100\n",
      "\u001b[1m444/444\u001b[0m \u001b[32m━━━━━━━━━━━━━━━━━━━━\u001b[0m\u001b[37m\u001b[0m \u001b[1m8s\u001b[0m 18ms/step - loss: 7.0377 - val_loss: 9.7545 - learning_rate: 1.3117e-05\n",
      "\n",
      "Epoch 80: LearningRateScheduler setting learning rate to 1.3117452908772975e-05.\n",
      "Epoch 80/100\n",
      "\u001b[1m444/444\u001b[0m \u001b[32m━━━━━━━━━━━━━━━━━━━━\u001b[0m\u001b[37m\u001b[0m \u001b[1m8s\u001b[0m 18ms/step - loss: 7.1177 - val_loss: 9.4672 - learning_rate: 1.3117e-05\n",
      "\n",
      "Epoch 81: LearningRateScheduler setting learning rate to 1.3117452908772975e-05.\n",
      "Epoch 81/100\n",
      "\u001b[1m444/444\u001b[0m \u001b[32m━━━━━━━━━━━━━━━━━━━━\u001b[0m\u001b[37m\u001b[0m \u001b[1m8s\u001b[0m 18ms/step - loss: 6.7757 - val_loss: 9.2870 - learning_rate: 1.3117e-05\n",
      "\n",
      "Epoch 82: LearningRateScheduler setting learning rate to 1.3117452908772975e-05.\n",
      "Epoch 82/100\n",
      "\u001b[1m444/444\u001b[0m \u001b[32m━━━━━━━━━━━━━━━━━━━━\u001b[0m\u001b[37m\u001b[0m \u001b[1m8s\u001b[0m 18ms/step - loss: 6.7468 - val_loss: 9.2112 - learning_rate: 1.3117e-05\n",
      "\n",
      "Epoch 83: LearningRateScheduler setting learning rate to 1.3117452908772975e-05.\n",
      "Epoch 83/100\n",
      "\u001b[1m444/444\u001b[0m \u001b[32m━━━━━━━━━━━━━━━━━━━━\u001b[0m\u001b[37m\u001b[0m \u001b[1m8s\u001b[0m 17ms/step - loss: 6.8571 - val_loss: 9.2144 - learning_rate: 1.3117e-05\n",
      "\n",
      "Epoch 84: LearningRateScheduler setting learning rate to 1.3117452908772975e-05.\n",
      "Epoch 84/100\n",
      "\u001b[1m444/444\u001b[0m \u001b[32m━━━━━━━━━━━━━━━━━━━━\u001b[0m\u001b[37m\u001b[0m \u001b[1m8s\u001b[0m 18ms/step - loss: 6.6555 - val_loss: 9.4397 - learning_rate: 1.3117e-05\n",
      "\n",
      "Epoch 85: LearningRateScheduler setting learning rate to 1.3117452908772975e-05.\n",
      "Epoch 85/100\n",
      "\u001b[1m444/444\u001b[0m \u001b[32m━━━━━━━━━━━━━━━━━━━━\u001b[0m\u001b[37m\u001b[0m \u001b[1m8s\u001b[0m 18ms/step - loss: 6.9757 - val_loss: 9.0722 - learning_rate: 1.3117e-05\n",
      "\n",
      "Epoch 86: LearningRateScheduler setting learning rate to 1.3117452908772975e-05.\n",
      "Epoch 86/100\n",
      "\u001b[1m444/444\u001b[0m \u001b[32m━━━━━━━━━━━━━━━━━━━━\u001b[0m\u001b[37m\u001b[0m \u001b[1m8s\u001b[0m 18ms/step - loss: 6.8017 - val_loss: 9.4081 - learning_rate: 1.3117e-05\n",
      "\n",
      "Epoch 87: LearningRateScheduler setting learning rate to 1.3117452908772975e-05.\n",
      "Epoch 87/100\n",
      "\u001b[1m444/444\u001b[0m \u001b[32m━━━━━━━━━━━━━━━━━━━━\u001b[0m\u001b[37m\u001b[0m \u001b[1m8s\u001b[0m 18ms/step - loss: 6.8461 - val_loss: 8.8924 - learning_rate: 1.3117e-05\n",
      "\n",
      "Epoch 88: LearningRateScheduler setting learning rate to 1.3117452908772975e-05.\n",
      "Epoch 88/100\n",
      "\u001b[1m444/444\u001b[0m \u001b[32m━━━━━━━━━━━━━━━━━━━━\u001b[0m\u001b[37m\u001b[0m \u001b[1m8s\u001b[0m 18ms/step - loss: 6.9027 - val_loss: 9.0367 - learning_rate: 1.3117e-05\n",
      "\n",
      "Epoch 89: LearningRateScheduler setting learning rate to 1.3117452908772975e-05.\n",
      "Epoch 89/100\n",
      "\u001b[1m444/444\u001b[0m \u001b[32m━━━━━━━━━━━━━━━━━━━━\u001b[0m\u001b[37m\u001b[0m \u001b[1m8s\u001b[0m 18ms/step - loss: 6.8226 - val_loss: 8.9964 - learning_rate: 1.3117e-05\n",
      "\n",
      "Epoch 90: LearningRateScheduler setting learning rate to 1.3117452908772975e-05.\n",
      "Epoch 90/100\n",
      "\u001b[1m444/444\u001b[0m \u001b[32m━━━━━━━━━━━━━━━━━━━━\u001b[0m\u001b[37m\u001b[0m \u001b[1m8s\u001b[0m 18ms/step - loss: 6.8743 - val_loss: 8.9405 - learning_rate: 1.3117e-05\n",
      "\n",
      "Epoch 91: LearningRateScheduler setting learning rate to 1.3117452908772975e-05.\n",
      "Epoch 91/100\n",
      "\u001b[1m444/444\u001b[0m \u001b[32m━━━━━━━━━━━━━━━━━━━━\u001b[0m\u001b[37m\u001b[0m \u001b[1m8s\u001b[0m 18ms/step - loss: 6.7554 - val_loss: 8.9542 - learning_rate: 1.3117e-05\n",
      "\n",
      "Epoch 92: LearningRateScheduler setting learning rate to 1.3117452908772975e-05.\n",
      "Epoch 92/100\n",
      "\u001b[1m444/444\u001b[0m \u001b[32m━━━━━━━━━━━━━━━━━━━━\u001b[0m\u001b[37m\u001b[0m \u001b[1m10s\u001b[0m 22ms/step - loss: 6.7834 - val_loss: 9.0804 - learning_rate: 1.3117e-05\n",
      "\u001b[94m\u001b[1mTraining ended: \u001b[0m\n",
      "'2024-12-04 19:46:59'\n",
      "\u001b[94m\u001b[1mTraining duration\u001b[0m\n",
      "'718.53 seconds'\n"
     ]
    }
   ],
   "source": [
    "besthyperparameters = tuner.get_best_hyperparameters()[0]\n",
    "nprint('besthyperparameters.values', besthyperparameters.values)\n",
    "model = tuner.hypermodel.build(besthyperparameters)\n",
    "early_stopping = callbacks.EarlyStopping(monitor='val_loss', patience=5)\n",
    "lr_scheduler = callbacks.LearningRateScheduler(scheduler_training, verbose=verbose)\n",
    "start_time = time.time()\n",
    "nprint('Training started: ', time.strftime(\"%Y-%m-%d %H:%M:%S\", time.gmtime()))\n",
    "with tensorflow.device('/GPU:0'):\n",
    "    history = model.fit(\n",
    "        ts_train_features, \n",
    "        ts_train_targets, \n",
    "        epochs=epochs, \n",
    "        validation_data=(\n",
    "            ts_val_features, \n",
    "            ts_val_targets\n",
    "        ), \n",
    "        verbose=verbose,\n",
    "        batch_size=besthyperparameters.values['batch_size'],\n",
    "        callbacks=[\n",
    "            early_stopping, \n",
    "            lr_scheduler\n",
    "        ]\n",
    "    )\n",
    "nprint('Training ended: ', time.strftime(\"%Y-%m-%d %H:%M:%S\", time.gmtime()))\n",
    "end_time = time.time()\n",
    "training_duration = end_time - start_time\n",
    "nprint('Training duration', '{:.2f} seconds'.format(training_duration))"
   ]
  },
  {
   "cell_type": "markdown",
   "id": "c3d3c90a-c9b5-4264-aaef-6769b757445d",
   "metadata": {},
   "source": [
    "<h2>Saving trained model</h2>"
   ]
  },
  {
   "cell_type": "code",
   "execution_count": 6,
   "id": "b71e801e-1d26-4629-9e6e-75ff346c042a",
   "metadata": {},
   "outputs": [],
   "source": [
    "modeltype = 'CNN'\n",
    "\n",
    "cnn_model_name = '{}_{}'.format(dataset_name, modeltype)\n",
    "cnn_model_files_dir = os.path.join(out_models_dir, cnn_model_name)\n",
    "os.makedirs(cnn_model_files_dir)"
   ]
  },
  {
   "cell_type": "code",
   "execution_count": 7,
   "id": "96a0be72-309d-4ed7-8a63-e16cd9b2ab02",
   "metadata": {},
   "outputs": [
    {
     "name": "stdout",
     "output_type": "stream",
     "text": [
      "\u001b[94m\u001b[1mCNN model path\u001b[0m\n",
      "'./working\\\\models\\\\FD001_CNN\\\\FD001_CNN.keras'\n"
     ]
    }
   ],
   "source": [
    "ftype = 'keras'\n",
    "cnn_model_file_name = '{}.{}'.format(cnn_model_name, ftype)\n",
    "cnn_model_path = os.path.join(cnn_model_files_dir, cnn_model_file_name)\n",
    "model.save(filepath=cnn_model_path)\n",
    "nprint('CNN model path', cnn_model_path)"
   ]
  },
  {
   "cell_type": "markdown",
   "id": "2247acc7-df51-4541-9632-bfeaedb0c2a3",
   "metadata": {},
   "source": [
    "<h2>Displaying training model metrics</h2>"
   ]
  },
  {
   "cell_type": "code",
   "execution_count": 8,
   "id": "a6acd028-1f57-4951-848c-f5919a3d9e95",
   "metadata": {},
   "outputs": [
    {
     "name": "stdout",
     "output_type": "stream",
     "text": [
      "\u001b[94m\u001b[1mCNN model history path\u001b[0m\n",
      "'./working\\\\models\\\\FD001_CNN\\\\FD001_CNN_history.json'\n",
      "    loss  val_loss  learning_rate  epoch\n",
      "6.814451  9.036690       0.000013     87\n",
      "6.710324  8.996374       0.000013     88\n",
      "6.706924  8.940519       0.000013     89\n",
      "6.694739  8.954231       0.000013     90\n",
      "6.662977  9.080371       0.000013     91\n"
     ]
    },
    {
     "data": {
      "image/png": "[encoded data removed]",
      "text/plain": [
       "<Figure size 640x480 with 1 Axes>"
      ]
     },
     "metadata": {},
     "output_type": "display_data"
    }
   ],
   "source": [
    "ftype = 'json'\n",
    "cnn_model_history_name = '{}_{}_{}.{}'.format(dataset_name, modeltype, 'history', ftype) \n",
    "cnn_model_history_path = os.path.join(cnn_model_files_dir, cnn_model_history_name)\n",
    "with open(cnn_model_history_path, \"w\") as file: \n",
    "    json.dump({'history': history.history}, file, indent=4)\n",
    "nprint('CNN model history path', cnn_model_history_path)\n",
    "display_training_performance(history)"
   ]
  },
  {
   "cell_type": "markdown",
   "id": "55bde3bd-05e1-44a4-a7fa-fc2afc0603d1",
   "metadata": {},
   "source": [
    "<h2>Creation of a .zip file for uploading to Google Drive</h2>"
   ]
  },
  {
   "cell_type": "code",
   "execution_count": 9,
   "id": "9877b05e-6ed3-441d-94f4-48fee7d60d58",
   "metadata": {},
   "outputs": [],
   "source": [
    "ftype = 'zip'\n",
    "shutil.make_archive(cnn_model_files_dir, ftype, cnn_model_files_dir)\n",
    "shutil.rmtree(cnn_model_files_dir)"
   ]
  },
  {
   "cell_type": "code",
   "execution_count": null,
   "id": "76ee8384-469d-4c54-bd5b-f146f34e8b48",
   "metadata": {},
   "outputs": [],
   "source": []
  }
 ],
 "metadata": {
  "kernelspec": {
   "display_name": "myenv",
   "language": "python",
   "name": "myenv"
  },
  "language_info": {
   "codemirror_mode": {
    "name": "ipython",
    "version": 3
   },
   "file_extension": ".py",
   "mimetype": "text/x-python",
   "name": "python",
   "nbconvert_exporter": "python",
   "pygments_lexer": "ipython3",
   "version": "3.12.6"
  }
 },
 "nbformat": 4,
 "nbformat_minor": 5
}
